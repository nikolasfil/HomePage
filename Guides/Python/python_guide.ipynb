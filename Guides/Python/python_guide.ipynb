{
 "cells": [
  {
   "cell_type": "markdown",
   "id": "ae9f8aba",
   "metadata": {},
   "source": [
    "Python - Simple Guide/Tutorial \n",
    "\n",
    "Competitive Programming SG 2022-2023\n",
    "\n",
    "This is a very short and simple python tutorial, just the very basics to be able to follow in the meetings.\n",
    "\n",
    "Installing Python : https://www.python.org/downloads/\n",
    "\n",
    "Installing editors : \n",
    "    VSCode : https://code.visualstudio.com/docs/python/python-tutorial\n",
    "    Pycharm : https://www.jetbrains.com/help/pycharm/installation-guide.html\n",
    "    juypyter-notebook : https://jupyter.org/install\n",
    "    "
   ]
  },
  {
   "cell_type": "markdown",
   "id": "01e05902",
   "metadata": {},
   "source": [
    "Let's start with something simple, as variables\n",
    "\n",
    "A variable is a container for a value. Behaves as the value that it contains. We can assign various types to variables\n"
   ]
  },
  {
   "cell_type": "code",
   "execution_count": null,
   "id": "446d3650",
   "metadata": {},
   "outputs": [],
   "source": [
    "first_name = 'Milo'\n",
    "last_name = 'Thatch'\n",
    "full_name = first_name + ' ' + last_name\n",
    "\n",
    "print('Hello '+full_name)\n",
    "print(type(full_name))\n",
    "\n"
   ]
  },
  {
   "cell_type": "code",
   "execution_count": null,
   "id": "7f488dae",
   "metadata": {},
   "outputs": [],
   "source": [
    "age = 21 \n",
    "age = age + 1 \n",
    "print(age)\n",
    "age+=1\n",
    "print(type(age))\n",
    "print('Your age is :'+str(age))\n"
   ]
  },
  {
   "cell_type": "markdown",
   "id": "9f992eba",
   "metadata": {},
   "source": [
    "Float = Floating point number (decimal number) \n",
    "\n",
    "A number that includes a decimal portion "
   ]
  },
  {
   "cell_type": "code",
   "execution_count": null,
   "id": "3a1a98e2",
   "metadata": {},
   "outputs": [],
   "source": [
    "height = 180.4 \n",
    "print(height)\n",
    "print(type(height))\n",
    "print('Your height is '+str(height))"
   ]
  },
  {
   "cell_type": "markdown",
   "id": "0118907c",
   "metadata": {},
   "source": [
    "Boolean \n",
    "\n",
    "A variable that can only store True or False \n"
   ]
  },
  {
   "cell_type": "code",
   "execution_count": null,
   "id": "f4532136",
   "metadata": {},
   "outputs": [],
   "source": [
    "human = True \n",
    "different = False\n",
    "print(human)\n",
    "print(type(human))\n",
    "#useful in if statements\n",
    "print('Human: '+str(human))\n"
   ]
  },
  {
   "cell_type": "markdown",
   "id": "cf88a93b",
   "metadata": {},
   "source": [
    "\n",
    "Multiple assignment \n",
    "\n",
    "It asllows us to assign multiple variables at the same time in one line of code "
   ]
  },
  {
   "cell_type": "code",
   "execution_count": null,
   "id": "9c1f02ea",
   "metadata": {},
   "outputs": [],
   "source": [
    "name = 'Milo'\n",
    "age = 21 \n",
    "attractive = True \n",
    "print(name, age, attractive)\n",
    "\n",
    "#or in multiple assignment we can do it in one line :\n",
    "\n",
    "name, age, attractive = 'Ross', 31, True\n",
    "print(name, age, attractive)"
   ]
  },
  {
   "cell_type": "code",
   "execution_count": null,
   "id": "63ebb508",
   "metadata": {},
   "outputs": [],
   "source": [
    "#another example \n",
    "Ross=Chandler=Joey = 30 \n",
    "print(Ross, Chandler, Joey)"
   ]
  },
  {
   "cell_type": "markdown",
   "id": "b662b59c",
   "metadata": {},
   "source": [
    "\n",
    "String methods \n",
    "\n",
    "len(): Returns the length of thr string \n",
    "\n",
    "variable.find(string): \n",
    "Returns the first occurence of string in the variable(must also be string )\n",
    "It always starts counting from zero(0). \n",
    "\n",
    "variable.capitalize()\n",
    "Capitalizes the first letter of the variable string.\n",
    "\n",
    "variable.upper()\n",
    "Changes all letters to capitals\n",
    "\n",
    "variable.lower()\n",
    "Changes all letters to lower \n",
    "\n",
    "variable.isdigit()\n",
    "Returns true if the variable string consists of digits\n",
    "\n",
    "variable.isalpha()\n",
    "Returns true if the variable string consists only of letters\n",
    "\n",
    "variable.count(string)\n",
    "Returns the number of string occurences in the variable\n",
    "\n",
    "variable.replace(from, to)\n",
    "Returns the variable but replaces the from part with to part \n",
    "\n",
    "\n",
    "Mutliplication between string s and integer i will return a new string that consists of i times s . \n"
   ]
  },
  {
   "cell_type": "code",
   "execution_count": null,
   "id": "87b43f84",
   "metadata": {},
   "outputs": [],
   "source": [
    "name = 'first Name'\n",
    "\n",
    "#legnth of string\n",
    "print(len(name))\n",
    "\n",
    "#find method \n",
    "print(name.find('i'))\n",
    "\n",
    "#capitalize\n",
    "print(name.capitalize())\n",
    "\n",
    "#upper\n",
    "print(name.upper())\n",
    "\n",
    "#lower\n",
    "print(name.lower())\n",
    "\n",
    "print(name.isdigit())\n",
    "print('01'.isdigit())\n",
    "\n",
    "print(name.isalpha())\n",
    "print('01'.isalpha())\n",
    "\n",
    "\n",
    "#multiple printing feature\n",
    "print(name*10)\n"
   ]
  },
  {
   "cell_type": "markdown",
   "id": "63f77033",
   "metadata": {},
   "source": [
    "\n",
    "Typecasting\n",
    "\n",
    "Convert the data type of a value to another type \n"
   ]
  },
  {
   "cell_type": "code",
   "execution_count": null,
   "id": "9ddf3ef2",
   "metadata": {},
   "outputs": [],
   "source": [
    "x = 1    #int\n",
    "y = 2.1  #float\n",
    "z = \"3\"  #str\n",
    "\n",
    "\n",
    "print(int(y)) # not a permamenet change \n",
    "\n",
    "new_y = int(y)\n",
    "\n",
    "print(z*3)    # returns str\n",
    "print(int(z)*3) # returns int \n",
    "\n",
    "new_x ,new_z= float(x), float(z)\n",
    "print(new_x, y, new_z)\n",
    "\n"
   ]
  },
  {
   "cell_type": "markdown",
   "id": "e2951da9",
   "metadata": {},
   "source": [
    "User Input \n",
    "\n",
    "input(message) \n",
    "It will print message and expect input\n",
    "It will save the input as a str format. For any other format you have to typecast it "
   ]
  },
  {
   "cell_type": "code",
   "execution_count": null,
   "id": "18161d34",
   "metadata": {},
   "outputs": [],
   "source": [
    "name=input('What is your name?')\n",
    "print('Hello '+ name)\n",
    "\n",
    "age = int(input('What is your age?'))\n",
    "print('You are '+str(age)+' years old')\n"
   ]
  },
  {
   "cell_type": "markdown",
   "id": "e517d10a",
   "metadata": {},
   "source": [
    "Useful functions related to numbers \n",
    "\n",
    "import math \n",
    "\n",
    "math is a library in python that has very useful functions\n",
    "With import we can use the library like math.function() \n",
    "\n",
    "math.ceil(number):\n",
    "rounds up \n",
    "\n",
    "math.floor(number):\n",
    "round down\n",
    "\n",
    "abs(number):\n",
    "returns the absolute value of the number\n",
    "\n",
    "pow(number, power)\n",
    "Returns the number to the power of power (number ^ power)\n",
    "\n",
    "math.sqrt(number):\n",
    "returns the square root of a number\n",
    "\n",
    "max(numbers *)\n",
    "returns the max value from the values given \n"
   ]
  },
  {
   "cell_type": "code",
   "execution_count": null,
   "id": "9e1aeee0",
   "metadata": {},
   "outputs": [],
   "source": [
    "import math\n",
    "\n",
    "pi = 3.1415926\n",
    "print(round(pi))\n",
    "\n",
    "print(math.ceil(pi))\n",
    "\n",
    "print(math.floor(pi))\n",
    "\n",
    "print(abs(pi))\n",
    "\n",
    "print(pow(pi,2))\n",
    "\n",
    "print(math.sqrt(81))\n",
    "\n",
    "x = 0\n",
    "y = 2 \n",
    "z = 1 \n",
    "print(max(x,y,z))\n"
   ]
  },
  {
   "cell_type": "markdown",
   "id": "0eaab50e",
   "metadata": {},
   "source": [
    "String Slicing \n",
    "create a substring by extracting elements from another string \n",
    "\n",
    "indexing[] is using the brackets [] , [start:stop:step] \n",
    "\n",
    "start 0 can be omitted.\n",
    "stop is up until the number we want, so 0:3 displays 0,1,2 letters\n",
    "\n",
    "the last (length of word -1 ) can also be omitted\n",
    "len(word)-1 and -1 is the same\n",
    "You can go on negative numbers, and it will just be counting normally from the end\n",
    "\n",
    "slice() is a function\n",
    "\n"
   ]
  },
  {
   "cell_type": "code",
   "execution_count": null,
   "id": "1944470e",
   "metadata": {},
   "outputs": [],
   "source": [
    "name = 'Full Name'\n",
    "print(name[1])\n",
    "\n",
    "first_name = name[:4]\n",
    "last_name = name[5:]\n",
    "print(name[5:len(name)]) # yields the same result\n",
    "\n",
    "#every two letters print \n",
    "print(name[::2])\n",
    "\n",
    "#reversing\n",
    "print(name[::-1])\n",
    "\n"
   ]
  },
  {
   "cell_type": "markdown",
   "id": "fba2ae9a",
   "metadata": {},
   "source": [
    "Slicing Function\n",
    "\n",
    "creates a slice object, that takes three variables (start, stop , step ) \n",
    "step is on default 1 "
   ]
  },
  {
   "cell_type": "code",
   "execution_count": null,
   "id": "51f533d8",
   "metadata": {},
   "outputs": [],
   "source": [
    "website = 'http://google.com'\n",
    "slice_obj = slice(7,-1)\n",
    "print(slice)"
   ]
  },
  {
   "cell_type": "markdown",
   "id": "ab0023b7",
   "metadata": {},
   "source": [
    "If statement \n",
    "\n",
    "A block of code that will execute only if it's condition is true\n",
    "\n",
    "else statement stands for all the other cases that if checks.\n",
    "\n",
    "elif checks a different statement inside the if statement structure\n",
    "\n",
    "if a condition is fullfield then the rest of the elifs and else are omitted."
   ]
  },
  {
   "cell_type": "code",
   "execution_count": null,
   "id": "0583c794",
   "metadata": {},
   "outputs": [],
   "source": [
    "age = int(input(\"Age: \"))\n",
    "if age >= 18: \n",
    "    print('adult')\n",
    "elif age == 21:\n",
    "    print('you are an adult and have start drinking')\n",
    "elif age <0:\n",
    "    print('You are are not born yet ')\n",
    "else:\n",
    "    print('you are a child')"
   ]
  },
  {
   "cell_type": "markdown",
   "id": "3fe235c8",
   "metadata": {},
   "source": [
    "Logical operators (and, or, not) \n",
    "\n",
    "Used to check if two or more conditional statement are true \n",
    "\n",
    "and : needs all the statements to be true in order to return true \n",
    "or: needs at least one statement to be true in order to return true\n",
    "not: returns the opposite boolean value \n"
   ]
  },
  {
   "cell_type": "code",
   "execution_count": null,
   "id": "89295b06",
   "metadata": {},
   "outputs": [],
   "source": [
    "print(True or False)\n",
    "print(True and True)\n",
    "\n",
    "temp = int(input('temperature: '))\n",
    "if temp >=0 and temp <= 30 : \n",
    "    print('The temperature is good \\n You can go outside')\n",
    "elif temp<0 or temp > 30 : \n",
    "    print('the temperature is not good today\\n stay inside')\n",
    "\n",
    "# same results yields : \n",
    "\n",
    "if not (temp >=0 and temp <= 30) : \n",
    "    print('the temperature is not good today\\n stay inside')\n",
    "elif not( temp<0 or temp > 30 ): \n",
    "        print('The temperature is good \\n You can go outside')\n"
   ]
  },
  {
   "cell_type": "markdown",
   "id": "ac2d26c3",
   "metadata": {},
   "source": [
    "While Loop \n",
    "\n",
    "A statement that will execute it's block of code, as long as it's condition remain true \n",
    "\n",
    "example of an infinite loop : \n",
    "\n",
    "while 1==1:\n",
    "    print('stuck in an infinite loop')\n",
    "\n",
    "to get out of the infinite loop ctr+C mostly works as a keyboard interrupt for the program \n"
   ]
  },
  {
   "cell_type": "code",
   "execution_count": null,
   "id": "f1014d50",
   "metadata": {},
   "outputs": [],
   "source": [
    "name = '' \n",
    "\n",
    "while len(name) == 0 : \n",
    "    name = input('enter your name: ')\n",
    "\n",
    "#same result : \n",
    "\n",
    "while not name:\n",
    "    name = input('enter your name:' )"
   ]
  },
  {
   "cell_type": "markdown",
   "id": "0503bd71",
   "metadata": {},
   "source": [
    "For loop : \n",
    "\n",
    "A statement that will execute it's block of code a limited amount of times \n",
    "\n",
    "range(start, stop, step)\n"
   ]
  },
  {
   "cell_type": "code",
   "execution_count": null,
   "id": "dc9944a0",
   "metadata": {},
   "outputs": [],
   "source": [
    "for i in range(10):\n",
    "    print(i)\n",
    "\n",
    "for i in range(50,100):\n",
    "    print(i)\n",
    "\n",
    "for i in 'this is a string':\n",
    "    print(i)\n",
    "        "
   ]
  },
  {
   "cell_type": "markdown",
   "id": "fe0d2dc2",
   "metadata": {},
   "source": [
    "\n",
    "Nested loops \n",
    "\n",
    "The inner loop will finish all of it's iterations before finishing the iteration of the outer loop "
   ]
  },
  {
   "cell_type": "code",
   "execution_count": null,
   "id": "515a5996",
   "metadata": {},
   "outputs": [],
   "source": [
    "row = ''\n",
    "for i in range(10):\n",
    "    for j in range(10):\n",
    "       row+= '#'\n",
    "    print(row)\n",
    "    \n",
    "# or same result\n",
    "\n",
    "for i in range(10):\n",
    "    for j in range(10):\n",
    "        print('#', end = '')\n",
    "    print()\n",
    "    \n",
    "    "
   ]
  },
  {
   "cell_type": "markdown",
   "id": "53cf6743",
   "metadata": {},
   "source": [
    "Loop Control statements : \n",
    "\n",
    "Used to change a loops execution from it's normal sequence \n",
    "\n",
    "break : used to terminate the loop entirely \n",
    "continye : skips to the next iteration of the loop \n",
    "pass : does nothing acts as a placeholder \n"
   ]
  },
  {
   "cell_type": "code",
   "execution_count": 1,
   "id": "41a5898b",
   "metadata": {},
   "outputs": [
    {
     "ename": "KeyboardInterrupt",
     "evalue": "Interrupted by user",
     "output_type": "error",
     "traceback": [
      "\u001b[1;31m-------------------------------------------------------------------------\u001b[0m",
      "\u001b[1;31mKeyboardInterrupt\u001b[0m                       Traceback (most recent call last)",
      "\u001b[1;32m~\\AppData\\Local\\Temp\\ipykernel_6120\\2652905226.py\u001b[0m in \u001b[0;36m<module>\u001b[1;34m\u001b[0m\n\u001b[0;32m      1\u001b[0m \u001b[1;32mwhile\u001b[0m \u001b[1;32mTrue\u001b[0m\u001b[1;33m:\u001b[0m\u001b[1;33m\u001b[0m\u001b[1;33m\u001b[0m\u001b[0m\n\u001b[1;32m----> 2\u001b[1;33m     \u001b[0mname\u001b[0m \u001b[1;33m=\u001b[0m \u001b[0minput\u001b[0m\u001b[1;33m(\u001b[0m\u001b[1;34m'Name: '\u001b[0m\u001b[1;33m)\u001b[0m\u001b[1;33m\u001b[0m\u001b[1;33m\u001b[0m\u001b[0m\n\u001b[0m\u001b[0;32m      3\u001b[0m \u001b[1;33m\u001b[0m\u001b[0m\n",
      "\u001b[1;32mc:\\users\\nikol\\pycharmprojects\\computer_organization\\venv_pyinstaller\\lib\\site-packages\\ipykernel\\kernelbase.py\u001b[0m in \u001b[0;36mraw_input\u001b[1;34m(self, prompt)\u001b[0m\n\u001b[0;32m   1179\u001b[0m             \u001b[0mself\u001b[0m\u001b[1;33m.\u001b[0m\u001b[0m_parent_ident\u001b[0m\u001b[1;33m[\u001b[0m\u001b[1;34m\"shell\"\u001b[0m\u001b[1;33m]\u001b[0m\u001b[1;33m,\u001b[0m\u001b[1;33m\u001b[0m\u001b[1;33m\u001b[0m\u001b[0m\n\u001b[0;32m   1180\u001b[0m             \u001b[0mself\u001b[0m\u001b[1;33m.\u001b[0m\u001b[0mget_parent\u001b[0m\u001b[1;33m(\u001b[0m\u001b[1;34m\"shell\"\u001b[0m\u001b[1;33m)\u001b[0m\u001b[1;33m,\u001b[0m\u001b[1;33m\u001b[0m\u001b[1;33m\u001b[0m\u001b[0m\n\u001b[1;32m-> 1181\u001b[1;33m             \u001b[0mpassword\u001b[0m\u001b[1;33m=\u001b[0m\u001b[1;32mFalse\u001b[0m\u001b[1;33m,\u001b[0m\u001b[1;33m\u001b[0m\u001b[1;33m\u001b[0m\u001b[0m\n\u001b[0m\u001b[0;32m   1182\u001b[0m         )\n\u001b[0;32m   1183\u001b[0m \u001b[1;33m\u001b[0m\u001b[0m\n",
      "\u001b[1;32mc:\\users\\nikol\\pycharmprojects\\computer_organization\\venv_pyinstaller\\lib\\site-packages\\ipykernel\\kernelbase.py\u001b[0m in \u001b[0;36m_input_request\u001b[1;34m(self, prompt, ident, parent, password)\u001b[0m\n\u001b[0;32m   1217\u001b[0m             \u001b[1;32mexcept\u001b[0m \u001b[0mKeyboardInterrupt\u001b[0m\u001b[1;33m:\u001b[0m\u001b[1;33m\u001b[0m\u001b[1;33m\u001b[0m\u001b[0m\n\u001b[0;32m   1218\u001b[0m                 \u001b[1;31m# re-raise KeyboardInterrupt, to truncate traceback\u001b[0m\u001b[1;33m\u001b[0m\u001b[1;33m\u001b[0m\u001b[1;33m\u001b[0m\u001b[0m\n\u001b[1;32m-> 1219\u001b[1;33m                 \u001b[1;32mraise\u001b[0m \u001b[0mKeyboardInterrupt\u001b[0m\u001b[1;33m(\u001b[0m\u001b[1;34m\"Interrupted by user\"\u001b[0m\u001b[1;33m)\u001b[0m \u001b[1;32mfrom\u001b[0m \u001b[1;32mNone\u001b[0m\u001b[1;33m\u001b[0m\u001b[1;33m\u001b[0m\u001b[0m\n\u001b[0m\u001b[0;32m   1220\u001b[0m             \u001b[1;32mexcept\u001b[0m \u001b[0mException\u001b[0m\u001b[1;33m:\u001b[0m\u001b[1;33m\u001b[0m\u001b[1;33m\u001b[0m\u001b[0m\n\u001b[0;32m   1221\u001b[0m                 \u001b[0mself\u001b[0m\u001b[1;33m.\u001b[0m\u001b[0mlog\u001b[0m\u001b[1;33m.\u001b[0m\u001b[0mwarning\u001b[0m\u001b[1;33m(\u001b[0m\u001b[1;34m\"Invalid Message:\"\u001b[0m\u001b[1;33m,\u001b[0m \u001b[0mexc_info\u001b[0m\u001b[1;33m=\u001b[0m\u001b[1;32mTrue\u001b[0m\u001b[1;33m)\u001b[0m\u001b[1;33m\u001b[0m\u001b[1;33m\u001b[0m\u001b[0m\n",
      "\u001b[1;31mKeyboardInterrupt\u001b[0m: Interrupted by user"
     ]
    }
   ],
   "source": [
    "while True:\n",
    "    name = input('Name: ')\n",
    "    if name !='':\n",
    "        break\n",
    "\n",
    "phonenumber= '123-4567-890'\n",
    "for i in phonenumber:\n",
    "    if i =='-':\n",
    "        continue\n",
    "    print(i,end = '')\n",
    "\n",
    "\n",
    "for i in range(1,21):\n",
    "    if i == 13:\n",
    "        pass \n",
    "    else:\n",
    "        print(i)\n",
    "    "
   ]
  },
  {
   "cell_type": "markdown",
   "id": "44c6f34e",
   "metadata": {},
   "source": [
    "Lists: \n",
    "\n",
    "used to store multiple items in a single variable \n",
    "\n",
    "You use indexing for access to individual elements\n",
    "[Start:stop:step] is also usable \n",
    "Unlike string, we can change individual elements of the list "
   ]
  },
  {
   "cell_type": "code",
   "execution_count": null,
   "id": "6b66ce77",
   "metadata": {},
   "outputs": [],
   "source": [
    "food = ['pizza', 'spaghetti','hotdog']\n",
    "\n",
    "print(food)\n",
    "\n",
    "#accessing elements inside the list: \n",
    "\n",
    "print(food[1]) #second element\n",
    "\n",
    "food[1]='fruits'\n",
    "print(food)"
   ]
  },
  {
   "cell_type": "markdown",
   "id": "6b9e18b4",
   "metadata": {},
   "source": [
    "Useful functions \n",
    "\n",
    "list.append(item)\n",
    "Adds the item to the end of the list\n",
    "\n",
    "list.remove(item)\n",
    "removes the item specified \n",
    "\n",
    "list.pop()\n",
    "removes the last item\n",
    "\n",
    "list.insert(position, item)\n",
    "adds the item to the position specified\n",
    "\n",
    "list.sort()\n",
    "sorts the list. Look also sorted(list)\n",
    "\n",
    "list.clear()\n",
    "Clears the list\n",
    "\n"
   ]
  },
  {
   "cell_type": "code",
   "execution_count": null,
   "id": "2a0a8161",
   "metadata": {},
   "outputs": [],
   "source": [
    "food = ['pizza', 'spaghetti','hotdog']\n",
    "food.append('ice cream')\n",
    "print(food)\n",
    "\n",
    "food.remove('pizza')\n",
    "print(food)\n",
    "\n",
    "food.pop()\n",
    "print(food)\n",
    "\n",
    "food.insert(1,'pizza')\n",
    "print(food)\n",
    "\n",
    "#print(sorted(food))\n",
    "food.sort()\n",
    "print(food)\n",
    "\n",
    "for x in food:\n",
    "    print(x)"
   ]
  },
  {
   "cell_type": "markdown",
   "id": "20c40b75",
   "metadata": {},
   "source": [
    "multidimentional lists: \n",
    "\n",
    "lists with elements that are lists "
   ]
  },
  {
   "cell_type": "code",
   "execution_count": null,
   "id": "5b1ebc60",
   "metadata": {},
   "outputs": [],
   "source": [
    "drinks = ['cofee','soda','tea']\n",
    "dinner = ['pizza','hamburger','hotdog']\n",
    "\n",
    "food = [drinks, dinner]\n",
    "\n",
    "#accessing the list\n",
    "print(food[0][1])\n",
    "#accessing outer -> inner \n"
   ]
  },
  {
   "cell_type": "markdown",
   "id": "23b16707",
   "metadata": {},
   "source": [
    "Tuple : \n",
    "\n",
    "Collection which is ordered and unchangeable, used to group together related data\n",
    "\n",
    "Same as a list , but once created cannot be changed."
   ]
  },
  {
   "cell_type": "code",
   "execution_count": null,
   "id": "cd14654f",
   "metadata": {},
   "outputs": [],
   "source": [
    "student = ('Milo',21,'male')\n",
    "print(student.count('male'))\n",
    "print(student.index(21))\n",
    "for x in student :\n",
    "    print(x)\n",
    "if 'Milo' in student:\n",
    "    print('Milo is here ')\n"
   ]
  },
  {
   "cell_type": "markdown",
   "id": "d36654eb",
   "metadata": {},
   "source": [
    "Set\n",
    "\n",
    "Collections which is unordered, unidexed\n",
    "No duplicate values are allowed. \n",
    "uses {}"
   ]
  },
  {
   "cell_type": "code",
   "execution_count": null,
   "id": "9e97c301",
   "metadata": {},
   "outputs": [],
   "source": []
  },
  {
   "cell_type": "markdown",
   "id": "ec5cef4e",
   "metadata": {},
   "source": []
  },
  {
   "cell_type": "code",
   "execution_count": null,
   "id": "473516c8",
   "metadata": {},
   "outputs": [],
   "source": []
  },
  {
   "cell_type": "markdown",
   "id": "83f32862",
   "metadata": {},
   "source": []
  },
  {
   "cell_type": "code",
   "execution_count": null,
   "id": "2b5f3e28",
   "metadata": {},
   "outputs": [],
   "source": []
  },
  {
   "cell_type": "markdown",
   "id": "5aeaaf1f",
   "metadata": {},
   "source": []
  },
  {
   "cell_type": "code",
   "execution_count": null,
   "id": "a9b5bf2b",
   "metadata": {},
   "outputs": [],
   "source": []
  }
 ],
 "metadata": {
  "kernelspec": {
   "display_name": "Python 3 (ipykernel)",
   "language": "python",
   "name": "python3"
  },
  "language_info": {
   "codemirror_mode": {
    "name": "ipython",
    "version": 3
   },
   "file_extension": ".py",
   "mimetype": "text/x-python",
   "name": "python",
   "nbconvert_exporter": "python",
   "pygments_lexer": "ipython3",
   "version": "3.7.4"
  }
 },
 "nbformat": 4,
 "nbformat_minor": 5
}
