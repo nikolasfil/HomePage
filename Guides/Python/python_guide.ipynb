{
 "cells": [
  {
   "cell_type": "markdown",
   "id": "ae9f8aba",
   "metadata": {},
   "source": [
    "Python - Simple Guide/Tutorial \n",
    "\n",
    "Competitive Programming SG 2022-2023\n",
    "\n",
    "This is a very short and simple python tutorial, just the very basics to be able to follow in the meetings.\n",
    "\n",
    "It follows the turotial on python of Bro Code:\n",
    "https://www.youtube.com/watch?v=XKHEtdqhLK8\n",
    "\n",
    "Of course this is an introductory documentation.\n",
    "For more information, it is best to visit the python documentation.\n",
    "\n",
    "\n",
    "Installing Python : https://www.python.org/downloads/\n",
    "\n",
    "Installing editors : \n",
    "    VSCode : https://code.visualstudio.com/docs/python/python-tutorial\n",
    "    Pycharm : https://www.jetbrains.com/help/pycharm/installation-guide.html\n",
    "    juypyter-notebook : https://jupyter.org/install\n",
    "    "
   ]
  },
  {
   "cell_type": "markdown",
   "id": "01e05902",
   "metadata": {},
   "source": [
    "\n",
    "Let's start with something simple, as variables\n",
    "\n",
    "A variable is a container for a value. Behaves as the value that it contains. We can assign various types to variables\n"
   ]
  },
  {
   "cell_type": "code",
   "execution_count": null,
   "id": "446d3650",
   "metadata": {},
   "outputs": [],
   "source": [
    "first_name = 'Milo'\n",
    "last_name = 'Thatch'\n",
    "full_name = first_name + ' ' + last_name\n",
    "\n",
    "print('Hello '+full_name)\n",
    "print(type(full_name))\n",
    "\n"
   ]
  },
  {
   "cell_type": "code",
   "execution_count": null,
   "id": "7f488dae",
   "metadata": {},
   "outputs": [],
   "source": [
    "age = 21 \n",
    "age = age + 1 \n",
    "print(age)\n",
    "age+=1\n",
    "print(type(age))\n",
    "print('Your age is :'+str(age))\n"
   ]
  },
  {
   "cell_type": "markdown",
   "id": "9f992eba",
   "metadata": {},
   "source": [
    "Float = Floating point number (decimal number) \n",
    "\n",
    "A number that includes a decimal portion "
   ]
  },
  {
   "cell_type": "code",
   "execution_count": null,
   "id": "3a1a98e2",
   "metadata": {},
   "outputs": [],
   "source": [
    "height = 180.4 \n",
    "print(height)\n",
    "print(type(height))\n",
    "print('Your height is '+str(height))"
   ]
  },
  {
   "cell_type": "markdown",
   "id": "0118907c",
   "metadata": {},
   "source": [
    "Boolean \n",
    "\n",
    "A variable that can only store True or False \n"
   ]
  },
  {
   "cell_type": "code",
   "execution_count": null,
   "id": "f4532136",
   "metadata": {},
   "outputs": [],
   "source": [
    "human = True \n",
    "different = False\n",
    "print(human)\n",
    "print(type(human))\n",
    "#useful in if statements\n",
    "print('Human: '+str(human))\n"
   ]
  },
  {
   "cell_type": "markdown",
   "id": "cf88a93b",
   "metadata": {},
   "source": [
    "\n",
    "Multiple assignment \n",
    "\n",
    "It asllows us to assign multiple variables at the same time in one line of code "
   ]
  },
  {
   "cell_type": "code",
   "execution_count": null,
   "id": "9c1f02ea",
   "metadata": {},
   "outputs": [],
   "source": [
    "name = 'Milo'\n",
    "age = 21 \n",
    "attractive = True \n",
    "print(name, age, attractive)\n",
    "\n",
    "#or in multiple assignment we can do it in one line :\n",
    "\n",
    "name, age, attractive = 'Ross', 31, True\n",
    "print(name, age, attractive)"
   ]
  },
  {
   "cell_type": "code",
   "execution_count": null,
   "id": "63ebb508",
   "metadata": {},
   "outputs": [],
   "source": [
    "#another example \n",
    "Ross=Chandler=Joey = 30 \n",
    "print(Ross, Chandler, Joey)"
   ]
  },
  {
   "cell_type": "markdown",
   "id": "b662b59c",
   "metadata": {},
   "source": [
    "\n",
    "String methods \n",
    "\n",
    "len(): Returns the length of thr string \n",
    "\n",
    "variable.find(string): \n",
    "Returns the first occurence of string in the variable(must also be string )\n",
    "It always starts counting from zero(0). \n",
    "\n",
    "variable.capitalize()\n",
    "Capitalizes the first letter of the variable string.\n",
    "\n",
    "variable.upper()\n",
    "Changes all letters to capitals\n",
    "\n",
    "variable.lower()\n",
    "Changes all letters to lower \n",
    "\n",
    "variable.isdigit()\n",
    "Returns true if the variable string consists of digits\n",
    "\n",
    "variable.isalpha()\n",
    "Returns true if the variable string consists only of letters\n",
    "\n",
    "variable.count(string)\n",
    "Returns the number of string occurences in the variable\n",
    "\n",
    "variable.replace(from, to)\n",
    "Returns the variable but replaces the from part with to part \n",
    "\n",
    "\n",
    "Mutliplication between string s and integer i will return a new string that consists of i times s . \n"
   ]
  },
  {
   "cell_type": "code",
   "execution_count": null,
   "id": "87b43f84",
   "metadata": {},
   "outputs": [],
   "source": [
    "name = 'first Name'\n",
    "\n",
    "#legnth of string\n",
    "print(len(name))\n",
    "\n",
    "#find method \n",
    "print(name.find('i'))\n",
    "\n",
    "#capitalize\n",
    "print(name.capitalize())\n",
    "\n",
    "#upper\n",
    "print(name.upper())\n",
    "\n",
    "#lower\n",
    "print(name.lower())\n",
    "\n",
    "print(name.isdigit())\n",
    "print('01'.isdigit())\n",
    "\n",
    "print(name.isalpha())\n",
    "print('01'.isalpha())\n",
    "\n",
    "\n",
    "#multiple printing feature\n",
    "print(name*10)\n"
   ]
  },
  {
   "cell_type": "markdown",
   "id": "63f77033",
   "metadata": {},
   "source": [
    "\n",
    "Typecasting\n",
    "\n",
    "Convert the data type of a value to another type \n"
   ]
  },
  {
   "cell_type": "code",
   "execution_count": null,
   "id": "9ddf3ef2",
   "metadata": {},
   "outputs": [],
   "source": [
    "x = 1    #int\n",
    "y = 2.1  #float\n",
    "z = \"3\"  #str\n",
    "\n",
    "\n",
    "print(int(y)) # not a permamenet change \n",
    "\n",
    "new_y = int(y)\n",
    "\n",
    "print(z*3)    # returns str\n",
    "print(int(z)*3) # returns int \n",
    "\n",
    "new_x ,new_z= float(x), float(z)\n",
    "print(new_x, y, new_z)\n",
    "\n"
   ]
  },
  {
   "cell_type": "markdown",
   "id": "e2951da9",
   "metadata": {},
   "source": [
    "User Input \n",
    "\n",
    "input(message) \n",
    "It will print message and expect input\n",
    "It will save the input as a str format. For any other format you have to typecast it "
   ]
  },
  {
   "cell_type": "code",
   "execution_count": null,
   "id": "18161d34",
   "metadata": {},
   "outputs": [],
   "source": [
    "name=input('What is your name?')\n",
    "print('Hello '+ name)\n",
    "\n",
    "age = int(input('What is your age?'))\n",
    "print('You are '+str(age)+' years old')\n"
   ]
  },
  {
   "cell_type": "markdown",
   "id": "e517d10a",
   "metadata": {},
   "source": [
    "Useful functions related to numbers \n",
    "\n",
    "import math \n",
    "\n",
    "math is a library in python that has very useful functions\n",
    "With import we can use the library like math.function() \n",
    "\n",
    "math.ceil(number):\n",
    "rounds up \n",
    "\n",
    "math.floor(number):\n",
    "round down\n",
    "\n",
    "abs(number):\n",
    "returns the absolute value of the number\n",
    "\n",
    "pow(number, power)\n",
    "Returns the number to the power of power (number ^ power)\n",
    "\n",
    "math.sqrt(number):\n",
    "returns the square root of a number\n",
    "\n",
    "max(numbers *)\n",
    "returns the max value from the values given \n"
   ]
  },
  {
   "cell_type": "code",
   "execution_count": null,
   "id": "9e1aeee0",
   "metadata": {},
   "outputs": [],
   "source": [
    "import math\n",
    "\n",
    "pi = 3.1415926\n",
    "print(round(pi))\n",
    "\n",
    "print(math.ceil(pi))\n",
    "\n",
    "print(math.floor(pi))\n",
    "\n",
    "print(abs(pi))\n",
    "\n",
    "print(pow(pi,2))\n",
    "\n",
    "print(math.sqrt(81))\n",
    "\n",
    "x = 0\n",
    "y = 2 \n",
    "z = 1 \n",
    "print(max(x,y,z))\n"
   ]
  },
  {
   "cell_type": "markdown",
   "id": "0eaab50e",
   "metadata": {},
   "source": [
    "String Slicing \n",
    "create a substring by extracting elements from another string \n",
    "\n",
    "indexing[] is using the brackets [] , [start:stop:step] \n",
    "\n",
    "start 0 can be omitted.\n",
    "stop is up until the number we want, so 0:3 displays 0,1,2 letters\n",
    "\n",
    "the last (length of word -1 ) can also be omitted\n",
    "len(word)-1 and -1 is the same\n",
    "You can go on negative numbers, and it will just be counting normally from the end\n",
    "\n",
    "slice() is a function\n",
    "\n"
   ]
  },
  {
   "cell_type": "code",
   "execution_count": null,
   "id": "1944470e",
   "metadata": {},
   "outputs": [],
   "source": [
    "name = 'Full Name'\n",
    "print(name[1])\n",
    "\n",
    "first_name = name[:4]\n",
    "last_name = name[5:]\n",
    "print(name[5:len(name)]) # yields the same result\n",
    "\n",
    "#every two letters print \n",
    "print(name[::2])\n",
    "\n",
    "#reversing\n",
    "print(name[::-1])\n",
    "\n"
   ]
  },
  {
   "cell_type": "markdown",
   "id": "fba2ae9a",
   "metadata": {},
   "source": [
    "Slicing Function\n",
    "\n",
    "creates a slice object, that takes three variables (start, stop , step ) \n",
    "step is on default 1 "
   ]
  },
  {
   "cell_type": "code",
   "execution_count": null,
   "id": "51f533d8",
   "metadata": {},
   "outputs": [],
   "source": [
    "website = 'http://google.com'\n",
    "slice_obj = slice(7,-1)\n",
    "print(slice)"
   ]
  },
  {
   "cell_type": "markdown",
   "id": "ab0023b7",
   "metadata": {},
   "source": [
    "If statement \n",
    "\n",
    "A block of code that will execute only if it's condition is true\n",
    "\n",
    "else statement stands for all the other cases that if checks.\n",
    "\n",
    "elif checks a different statement inside the if statement structure\n",
    "\n",
    "if a condition is fullfield then the rest of the elifs and else are omitted."
   ]
  },
  {
   "cell_type": "code",
   "execution_count": null,
   "id": "0583c794",
   "metadata": {},
   "outputs": [],
   "source": [
    "age = int(input(\"Age: \"))\n",
    "if age >= 18: \n",
    "    print('adult')\n",
    "elif age == 21:\n",
    "    print('you are an adult and have start drinking')\n",
    "elif age <0:\n",
    "    print('You are are not born yet ')\n",
    "else:\n",
    "    print('you are a child')"
   ]
  },
  {
   "cell_type": "markdown",
   "id": "3fe235c8",
   "metadata": {},
   "source": [
    "Logical operators (and, or, not) \n",
    "\n",
    "Used to check if two or more conditional statement are true \n",
    "\n",
    "and : needs all the statements to be true in order to return true \n",
    "or: needs at least one statement to be true in order to return true\n",
    "not: returns the opposite boolean value \n"
   ]
  },
  {
   "cell_type": "code",
   "execution_count": null,
   "id": "89295b06",
   "metadata": {},
   "outputs": [],
   "source": [
    "print(True or False)\n",
    "print(True and True)\n",
    "\n",
    "temp = int(input('temperature: '))\n",
    "if temp >=0 and temp <= 30 : \n",
    "    print('The temperature is good \\n You can go outside')\n",
    "elif temp<0 or temp > 30 : \n",
    "    print('the temperature is not good today\\n stay inside')\n",
    "\n",
    "# same results yields : \n",
    "\n",
    "if not (temp >=0 and temp <= 30) : \n",
    "    print('the temperature is not good today\\n stay inside')\n",
    "elif not( temp<0 or temp > 30 ): \n",
    "        print('The temperature is good \\n You can go outside')\n"
   ]
  },
  {
   "cell_type": "markdown",
   "id": "ac2d26c3",
   "metadata": {},
   "source": [
    "While Loop \n",
    "\n",
    "A statement that will execute it's block of code, as long as it's condition remain true \n",
    "\n",
    "example of an infinite loop : \n",
    "\n",
    "while 1==1:\n",
    "    print('stuck in an infinite loop')\n",
    "\n",
    "to get out of the infinite loop ctr+C mostly works as a keyboard interrupt for the program \n"
   ]
  },
  {
   "cell_type": "code",
   "execution_count": null,
   "id": "f1014d50",
   "metadata": {},
   "outputs": [],
   "source": [
    "name = '' \n",
    "\n",
    "while len(name) == 0 : \n",
    "    name = input('enter your name: ')\n",
    "\n",
    "#same result : \n",
    "\n",
    "while not name:\n",
    "    name = input('enter your name:' )"
   ]
  },
  {
   "cell_type": "markdown",
   "id": "0503bd71",
   "metadata": {},
   "source": [
    "For loop : \n",
    "\n",
    "A statement that will execute it's block of code a limited amount of times \n",
    "\n",
    "range(start, stop, step)\n"
   ]
  },
  {
   "cell_type": "code",
   "execution_count": null,
   "id": "dc9944a0",
   "metadata": {},
   "outputs": [],
   "source": [
    "for i in range(10):\n",
    "    print(i)\n",
    "\n",
    "for i in range(50,100):\n",
    "    print(i)\n",
    "\n",
    "for i in 'this is a string':\n",
    "    print(i)\n",
    "        "
   ]
  },
  {
   "cell_type": "markdown",
   "id": "fe0d2dc2",
   "metadata": {},
   "source": [
    "\n",
    "Nested loops \n",
    "\n",
    "The inner loop will finish all of it's iterations before finishing the iteration of the outer loop "
   ]
  },
  {
   "cell_type": "code",
   "execution_count": null,
   "id": "515a5996",
   "metadata": {},
   "outputs": [],
   "source": [
    "row = ''\n",
    "for i in range(10):\n",
    "    for j in range(10):\n",
    "       row+= '#'\n",
    "    print(row)\n",
    "    \n",
    "# or same result\n",
    "\n",
    "for i in range(10):\n",
    "    for j in range(10):\n",
    "        print('#', end = '')\n",
    "    print()\n",
    "    \n",
    "    "
   ]
  },
  {
   "cell_type": "markdown",
   "id": "53cf6743",
   "metadata": {},
   "source": [
    "Loop Control statements : \n",
    "\n",
    "Used to change a loops execution from it's normal sequence \n",
    "\n",
    "break : used to terminate the loop entirely \n",
    "continye : skips to the next iteration of the loop \n",
    "pass : does nothing acts as a placeholder \n"
   ]
  },
  {
   "cell_type": "code",
   "execution_count": null,
   "id": "41a5898b",
   "metadata": {},
   "outputs": [],
   "source": [
    "while True:\n",
    "    name = input('Name: ')\n",
    "    if name !='':\n",
    "        break\n",
    "\n",
    "phonenumber= '123-4567-890'\n",
    "for i in phonenumber:\n",
    "    if i =='-':\n",
    "        continue\n",
    "    print(i,end = '')\n",
    "\n",
    "\n",
    "for i in range(1,21):\n",
    "    if i == 13:\n",
    "        pass \n",
    "    else:\n",
    "        print(i)\n",
    "    "
   ]
  },
  {
   "cell_type": "markdown",
   "id": "44c6f34e",
   "metadata": {},
   "source": [
    "Lists: \n",
    "\n",
    "used to store multiple items in a single variable \n",
    "\n",
    "You use indexing for access to individual elements\n",
    "[Start:stop:step] is also usable \n",
    "Unlike string, we can change individual elements of the list "
   ]
  },
  {
   "cell_type": "code",
   "execution_count": null,
   "id": "6b66ce77",
   "metadata": {},
   "outputs": [],
   "source": [
    "food = ['pizza', 'spaghetti','hotdog']\n",
    "\n",
    "print(food)\n",
    "\n",
    "#accessing elements inside the list: \n",
    "\n",
    "print(food[1]) #second element\n",
    "\n",
    "food[1]='fruits'\n",
    "print(food)"
   ]
  },
  {
   "cell_type": "markdown",
   "id": "6b9e18b4",
   "metadata": {},
   "source": [
    "Useful functions \n",
    "\n",
    "list.append(item)\n",
    "Adds the item to the end of the list\n",
    "\n",
    "list.remove(item)\n",
    "removes the item specified \n",
    "\n",
    "list.pop()\n",
    "removes the last item\n",
    "\n",
    "list.insert(position, item)\n",
    "adds the item to the position specified\n",
    "\n",
    "list.sort()\n",
    "sorts the list. Look also sorted(list)\n",
    "\n",
    "list.clear()\n",
    "Clears the list\n",
    "\n"
   ]
  },
  {
   "cell_type": "code",
   "execution_count": null,
   "id": "2a0a8161",
   "metadata": {},
   "outputs": [],
   "source": [
    "food = ['pizza', 'spaghetti','hotdog']\n",
    "food.append('ice cream')\n",
    "print(food)\n",
    "\n",
    "food.remove('pizza')\n",
    "print(food)\n",
    "\n",
    "food.pop()\n",
    "print(food)\n",
    "\n",
    "food.insert(1,'pizza')\n",
    "print(food)\n",
    "\n",
    "#print(sorted(food))\n",
    "food.sort()\n",
    "print(food)\n",
    "\n",
    "for x in food:\n",
    "    print(x)"
   ]
  },
  {
   "cell_type": "markdown",
   "id": "20c40b75",
   "metadata": {},
   "source": [
    "multidimentional lists: \n",
    "\n",
    "lists with elements that are lists "
   ]
  },
  {
   "cell_type": "code",
   "execution_count": null,
   "id": "5b1ebc60",
   "metadata": {},
   "outputs": [],
   "source": [
    "drinks = ['cofee','soda','tea']\n",
    "dinner = ['pizza','hamburger','hotdog']\n",
    "\n",
    "food = [drinks, dinner]\n",
    "\n",
    "#accessing the list\n",
    "print(food[0][1])\n",
    "#accessing outer -> inner \n"
   ]
  },
  {
   "cell_type": "markdown",
   "id": "23b16707",
   "metadata": {},
   "source": [
    "Tuple : \n",
    "\n",
    "Collection which is ordered and unchangeable, used to group together related data\n",
    "\n",
    "Same as a list , but once created cannot be changed."
   ]
  },
  {
   "cell_type": "code",
   "execution_count": null,
   "id": "cd14654f",
   "metadata": {},
   "outputs": [],
   "source": [
    "student = ('Milo',21,'male')\n",
    "print(student.count('male'))\n",
    "print(student.index(21))\n",
    "for x in student :\n",
    "    print(x)\n",
    "if 'Milo' in student:\n",
    "    print('Milo is here ')\n"
   ]
  },
  {
   "cell_type": "markdown",
   "id": "d36654eb",
   "metadata": {},
   "source": [
    "Set\n",
    "\n",
    "Collections which is unordered, unidexed\n",
    "No duplicate values are allowed. \n",
    "uses {} to initiate an empty set\n",
    "\n",
    "Can be faster than a list to see if something is within a list "
   ]
  },
  {
   "cell_type": "code",
   "execution_count": null,
   "id": "9e97c301",
   "metadata": {},
   "outputs": [],
   "source": [
    "objects = {}\n",
    "objects = {'headphones','laptop','phone'}\n",
    "\n",
    "for x in objects : \n",
    "    print(x)\n",
    "\n",
    "#It might not be the same order that was inserted \n",
    "print(objects)\n",
    "\n",
    "new_objects = {'plates','book','book','phone','phone','phone','phone'}\n",
    "print(new_objects)\n",
    "\n",
    "objects.add('charger')\n",
    "objects.remove('headphones')\n",
    "print(objects)\n",
    "\n",
    "#adding one set to another \n",
    "new_objects.update(objects)\n",
    "print(new_objects)\n",
    "\n",
    "new_objects = {'keys','napkin','earbuds'}\n",
    "objects = {'laptop','headphones','phone'}\n",
    "# Joining sets\n",
    "common_objects=new_objects.union(objects)\n",
    "print(common_objects)\n",
    "\n",
    "objects = {'keys','hat','rings','phone'}\n",
    "# Compare differences\n",
    "print(common_objects.difference(objects))\n",
    "\n",
    "# Compare similarities \n",
    "print(common_objects.intersection(objects))\n"
   ]
  },
  {
   "cell_type": "markdown",
   "id": "ec5cef4e",
   "metadata": {},
   "source": [
    "\n",
    "Dictionaries \n",
    "\n",
    "A changeable, unordered collection of unique key: value pairs.\n",
    "It uses hashing, that's why they are so fast.\n",
    "\n",
    "dictionary\\[key\\]=value\n"
   ]
  },
  {
   "cell_type": "code",
   "execution_count": null,
   "id": "473516c8",
   "metadata": {},
   "outputs": [],
   "source": [
    "am = {'Bob':1022,'Martha':1032,'Stuart':1055}\n",
    "\n",
    "print(am['Bob'])\n",
    "\n",
    "# Setting/Changing values of specific keys\n",
    "am['Bob'] = 1021\n",
    "print(am['Bob'])\n",
    "\n",
    "# The key has to exist in the dictionary \n",
    "print(am.get('Bob'))\n",
    "# iF the key doesn't exist in the dictionary, returns None\n",
    "print(am.get('Sully'))\n",
    "\n",
    "\n",
    "for key in am.keys():\n",
    "    print(key)\n",
    "\n",
    "for value in am.values():\n",
    "    print(value)\n",
    "    \n",
    "for items in am.items():\n",
    "#     items returns a tuple (key, value)\n",
    "    print(items)\n",
    "    \n",
    "# removing \n",
    "am.pop('Bob')\n",
    "# clear\n",
    "am.clear()"
   ]
  },
  {
   "cell_type": "markdown",
   "id": "83f32862",
   "metadata": {},
   "source": [
    "\n",
    "Index Operator \\[\\]\n",
    "\n",
    "Gives access to a sequence's element (str, list, tuples)\n",
    "\n"
   ]
  },
  {
   "cell_type": "code",
   "execution_count": null,
   "id": "2b5f3e28",
   "metadata": {},
   "outputs": [],
   "source": [
    "\n",
    "name = 'milo Thatch'\n",
    "if name[0].islower():\n",
    "    name = name.capitalize()\n",
    "\n",
    "first_name = name[0:4]\n",
    "last_name = name[5:].capitalize()\n",
    "print(first_name,last_name)"
   ]
  },
  {
   "cell_type": "code",
   "execution_count": null,
   "id": "33c24be4",
   "metadata": {},
   "outputs": [],
   "source": [
    "# we can access negative indexes, counting from the end -1 .. \n",
    "last_character = 'this is a str'[-1]\n",
    "print(last_character)"
   ]
  },
  {
   "cell_type": "markdown",
   "id": "5aeaaf1f",
   "metadata": {},
   "source": [
    "\n",
    "Functions\n",
    "\n",
    "A block of code that is executed only when it is called (invoked)\n",
    "\n",
    "Needs the def keyword, a name for the function followed by parenthesis() and inside the parenthesis could be some arguments(parameters) that the function needs \n",
    "Arguments can be whatever data types we want.\n",
    "\n",
    "The commands inside the function are indented , like the if-else,for loops, while loops commands\n",
    "\n",
    "The arguments can have a default value as well. With default values, functions can be called without any parameters given\n"
   ]
  },
  {
   "cell_type": "code",
   "execution_count": null,
   "id": "a9b5bf2b",
   "metadata": {},
   "outputs": [],
   "source": [
    "\n",
    "def hello():\n",
    "    print('hello')\n",
    "\n",
    "hello()    \n",
    "    \n",
    "def greetings(name):\n",
    "    print('Greetings '+str(name))\n",
    "\n",
    "greetings(input())\n",
    "\n",
    "def greetings(name='Unknown'):\n",
    "    print(\"Greetings \"+name)\n",
    "greetings()\n",
    "\n",
    "def typing(name,age,hobbies):\n",
    "    print(type(name),type(age),type(hobbies))\n",
    "\n",
    "typing('Milo',23,['Linguistics','Exploration','Boiler Master'])"
   ]
  },
  {
   "cell_type": "markdown",
   "id": "8bdbace8",
   "metadata": {},
   "source": [
    "\n",
    "Return Statement \n",
    "\n",
    "Functions send python values/objects back to the caller \n",
    "These values/objects are known as the function's return value \n",
    "\n",
    "You can either print them directly to the console, or store them in variables\n"
   ]
  },
  {
   "cell_type": "code",
   "execution_count": null,
   "id": "a7566ef3",
   "metadata": {},
   "outputs": [],
   "source": [
    "def adder(num1,num2):\n",
    "    return num1+num2\n",
    "\n",
    "print(adder(3,8))\n",
    "\n",
    "variable = adder(12,3)\n"
   ]
  },
  {
   "cell_type": "markdown",
   "id": "82bb34e5",
   "metadata": {},
   "source": [
    "\n",
    "Keyword arguments\n",
    "\n",
    "Arguments preceded by and identifier when we pass them to a function.\n",
    "The order of the arguments doesn't matter, unlike positional Argumnets Python knwons the names of the arguments that our function receives \n"
   ]
  },
  {
   "cell_type": "code",
   "execution_count": null,
   "id": "bc80de5f",
   "metadata": {},
   "outputs": [],
   "source": [
    "\n",
    "def typing(name,age,hobbies):\n",
    "    print(type(name),type(age),type(hobbies))\n",
    "\n",
    "typing('Milo',23,['Linguistics','Exploration','Boiler Master'])\n",
    "\n",
    "typing(age=23,hobbies=['Dead Languages'],name='Milo')\n",
    "# No matter that the order has changed, \n",
    "# it still displays it with the order we have coded it to  \n"
   ]
  },
  {
   "cell_type": "markdown",
   "id": "10657a34",
   "metadata": {},
   "source": [
    "\n",
    "Nested Function calls \n",
    "\n",
    "function calls inside other function calls \n",
    "Innermost function calls are resolved first \n",
    "Returned Value is used as argument for the next outer function \n",
    "\n"
   ]
  },
  {
   "cell_type": "code",
   "execution_count": null,
   "id": "7618d8d6",
   "metadata": {},
   "outputs": [],
   "source": [
    "num = input('Whole Positive Number')\n",
    "num = float(num)\n",
    "num = abs(num)\n",
    "num = round(num)\n",
    "print(num)\n",
    "\n",
    "print(round(abs(float(input('Whole Positive Number')))))\n"
   ]
  },
  {
   "cell_type": "markdown",
   "id": "86739a48",
   "metadata": {},
   "source": [
    "\n",
    "Scope \n",
    "The region that a variable is recognized \n",
    "A variable is only available from inside the region it is created \n",
    "A global and locally scoped versions of a variable can be created \n",
    "\n",
    "Python uses the LEGB rule \n",
    "L = Local \n",
    "E = Enclosing \n",
    "G = Global \n",
    "B = Built-in \n"
   ]
  },
  {
   "cell_type": "code",
   "execution_count": null,
   "id": "9064c43d",
   "metadata": {},
   "outputs": [],
   "source": [
    "\n",
    "def display_name():\n",
    "    name = 'Milo' # local\n",
    "    print(name)\n",
    "\n",
    "# print(name) is going to raise error\n",
    "name = 'Thatcher'\n",
    "print(name)\n"
   ]
  },
  {
   "cell_type": "code",
   "execution_count": null,
   "id": "d483d66d",
   "metadata": {},
   "outputs": [],
   "source": [
    "name = 'Milo' # global\n",
    "def display_name():\n",
    "    print(name)\n",
    "    name = 'Thatch' #local\n",
    "    print(name)\n",
    "print(name)"
   ]
  },
  {
   "cell_type": "markdown",
   "id": "8d30a807",
   "metadata": {},
   "source": [
    "\n",
    "*args \n",
    "\n",
    "Parameter that will pack all arguments into a tuple \n",
    "\n",
    "args can be named whatever you want, the * before is that does all the job"
   ]
  },
  {
   "cell_type": "code",
   "execution_count": null,
   "id": "b07b4b7d",
   "metadata": {},
   "outputs": [],
   "source": [
    "\n",
    "def add(*nums):\n",
    "    s = 0 \n",
    "    for i in nums:\n",
    "        s+=i\n",
    "    return s \n",
    "\n",
    "print(add(0,1,2,3,4,5,6,7,8))"
   ]
  },
  {
   "cell_type": "markdown",
   "id": "af315a73",
   "metadata": {},
   "source": [
    "\n",
    "\\**kwargs\n",
    "Packs all arhuments into a dictionary, can accept a varying amount of keyword arguments \n",
    "\n"
   ]
  },
  {
   "cell_type": "code",
   "execution_count": null,
   "id": "6226ed78",
   "metadata": {},
   "outputs": [],
   "source": [
    "\n",
    "def hello(**name):\n",
    "    print('Hello '+name['first'] +' ' + name['middle'] +' ' + name['last'])\n",
    "\n",
    "hello(first='Milo',middle='G.', last='Thatcher')\n",
    "\n",
    "def hello(**names):\n",
    "    print('Hello',end=' ')\n",
    "    for key,value in names.items():\n",
    "        print(value,end=' ')\n",
    "hello(first='Milo',middle='G.', last='Thatcher')\n"
   ]
  },
  {
   "cell_type": "markdown",
   "id": "db2b4f23",
   "metadata": {},
   "source": [
    "\n",
    "Format method \n",
    "\n",
    "str.format() \n",
    "A method available for strings , \n",
    "It is an optional method that gives users more control when displaying output\n",
    "\n",
    "{} is a place holder \n",
    "In format it is ordered \n",
    "\n",
    "{number} will place the index_number item from the format \n",
    "\n",
    "\n",
    "'{Argument}'.format(argument=value)\n"
   ]
  },
  {
   "cell_type": "code",
   "execution_count": null,
   "id": "5d38c3db",
   "metadata": {},
   "outputs": [],
   "source": [
    "\n",
    "animal = 'cow'\n",
    "item = 'moon'\n",
    "\n",
    "print('The {} jumped over the {}'.format(animal,item))\n",
    "print('The {1} jumped over the {0}'.format(animal,item))\n",
    "\n",
    "print('The {animal} jumped over the {location}'.format(location='moon',animal='cow'))\n"
   ]
  },
  {
   "cell_type": "markdown",
   "id": "b90adf76",
   "metadata": {},
   "source": [
    "Adding some padding \n",
    "{:after} "
   ]
  },
  {
   "cell_type": "code",
   "execution_count": null,
   "id": "5026cca6",
   "metadata": {},
   "outputs": [],
   "source": [
    "print('{:10} see ?'.format('Now You'))\n",
    "\n",
    "# left align\n",
    "print('{:<10} see ?'.format('Now You'))\n",
    "\n",
    "# right align\n",
    "print('{:>10} see ?'.format('Now You'))\n",
    "\n",
    "# Center align\n",
    "print('{:^10} see ?'.format('Now You'))\n",
    "\n",
    "print('{name:^10}'.format(name = 'Milo Thatch'))"
   ]
  },
  {
   "cell_type": "markdown",
   "id": "8d5c9424",
   "metadata": {},
   "source": [
    "formating numbers \n"
   ]
  },
  {
   "cell_type": "code",
   "execution_count": null,
   "id": "891da8ea",
   "metadata": {},
   "outputs": [],
   "source": [
    "number = 3.1415926535\n",
    "print('The number pi is {:.3f}'.format(number))\n",
    "\n",
    "number = 5\n",
    "# binary representation\n",
    "print('The binary is {:b}'.format(number))\n",
    "print('The hex is {:X}'.format(number))\n",
    "print('The oct is {:o}'.format(number))\n",
    "print('The scientific number is {:E}'.format(number))\n"
   ]
  },
  {
   "cell_type": "markdown",
   "id": "8dbd1554",
   "metadata": {},
   "source": [
    "\n",
    "Power strings \n"
   ]
  },
  {
   "cell_type": "code",
   "execution_count": null,
   "id": "345eff38",
   "metadata": {},
   "outputs": [],
   "source": []
  },
  {
   "cell_type": "markdown",
   "id": "21baa18b",
   "metadata": {},
   "source": [
    "Random Numbers"
   ]
  },
  {
   "cell_type": "code",
   "execution_count": null,
   "id": "70cfa3bf",
   "metadata": {},
   "outputs": [],
   "source": []
  },
  {
   "cell_type": "markdown",
   "id": "f037fc83",
   "metadata": {},
   "source": [
    "\n",
    "Exception : \n",
    "\n",
    "Events detected during execution that interrupts the flow of a program\n",
    "\n",
    "We use a try block to handle code that can be dangerous \n"
   ]
  },
  {
   "cell_type": "code",
   "execution_count": null,
   "id": "6dcd7788",
   "metadata": {},
   "outputs": [],
   "source": [
    "try:\n",
    "    n = int(input('Enter A number:'))\n",
    "    d = int(input('Enter A number'))\n",
    "    result = n /d\n",
    "except ZeroDivisionError:\n",
    "#     We can look out for specific errors\n",
    "    print(\"Can't divide by zero\")\n",
    "except ValueError:\n",
    "    print('Enter only numbers')\n",
    "except Exception as e : \n",
    "#     or we can simply see the error without disrupting the \n",
    "#     flow of our program\n",
    "#     e is the exception that was raised \n",
    "    print(e)\n",
    "    \n",
    "else:\n",
    "#     this runs if no exceptions are occured\n",
    "    print(result)\n",
    "finally:\n",
    "#     runs at the end of try except regardless of \n",
    "#     the rest\n",
    "    print('This was division')\n",
    "    "
   ]
  },
  {
   "cell_type": "markdown",
   "id": "0bdbd841",
   "metadata": {},
   "source": [
    "\n"
   ]
  },
  {
   "cell_type": "code",
   "execution_count": null,
   "id": "ca9f57ee",
   "metadata": {},
   "outputs": [],
   "source": []
  }
 ],
 "metadata": {
  "kernelspec": {
   "display_name": "Python 3 (ipykernel)",
   "language": "python",
   "name": "python3"
  },
  "language_info": {
   "codemirror_mode": {
    "name": "ipython",
    "version": 3
   },
   "file_extension": ".py",
   "mimetype": "text/x-python",
   "name": "python",
   "nbconvert_exporter": "python",
   "pygments_lexer": "ipython3",
   "version": "3.7.4"
  }
 },
 "nbformat": 4,
 "nbformat_minor": 5
}
