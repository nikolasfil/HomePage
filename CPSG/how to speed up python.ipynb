{
 "cells": [
  {
   "cell_type": "markdown",
   "id": "44408819",
   "metadata": {},
   "source": [
    "How to Speed up your python code\n",
    "\n",
    "Python however useful-powerful and flexible it is , it can be a bit slow sometimes\n"
   ]
  },
  {
   "cell_type": "markdown",
   "id": "71cd92f0",
   "metadata": {},
   "source": [
    "1. Using Proper Data Structure\n",
    " \n",
    "Python's build-in data structures (lists,tuple,set,dictionary) are there for a reason.\n",
    "Sure it's easier using lists only, but a proper choice can decrease runtime . \n",
    "\n",
    "e.g. iterating over tuple is easier than iterating over a list "
   ]
  },
  {
   "cell_type": "code",
   "execution_count": 5,
   "id": "5c7f6eb7",
   "metadata": {},
   "outputs": [
    {
     "name": "stdout",
     "output_type": "stream",
     "text": [
      "1 2 3 4 5 6 7 8 9 10 11 12 13 14 15 16 17 18 19 20 21 22 23 24 25 \n",
      "time needed for lists: 0.0005315999999311316\n",
      "1 2 3 4 5 6 7 8 9 10 11 12 13 14 15 16 17 18 19 20 21 22 23 24 25 \n",
      "time need for tuples: 0.0002646000000368076\n",
      "True\n"
     ]
    }
   ],
   "source": [
    "import timeit\n",
    "\n",
    "ls = [1,2,3,4,5,6,7,8,9,10,11,12,13,14,15,16,17,18,19,20,21,22,23,24,25]\n",
    "ts = (1,2,3,4,5,6,7,8,9,10,11,12,13,14,15,16,17,18,19,20,21,22,23,24,25)\n",
    " \n",
    "tl = timeit.default_timer()\n",
    "for i in ls:\n",
    "    print(i,end=\" \")\n",
    "tl2 = timeit.default_timer() - tl\n",
    "print(f\"\\ntime needed for lists: {tl2}\")\n",
    "tt = timeit.default_timer()\n",
    "for i in ts:\n",
    "    print(i, end =' ')\n",
    "tt2 = timeit.default_timer()-tt\n",
    "print(f\"\\ntime need for tuples: {tt2}\")\n",
    "print(tl2>tt2)"
   ]
  },
  {
   "cell_type": "markdown",
   "id": "fe417126",
   "metadata": {},
   "source": [
    "2. Decrease the use of for loop \n",
    "\n",
    "A for loop is dynamic in python and takes up more time than a while loop \n",
    "\n",
    "So a while loop is preferred "
   ]
  },
  {
   "cell_type": "code",
   "execution_count": 4,
   "id": "2f9262a5",
   "metadata": {},
   "outputs": [
    {
     "name": "stdout",
     "output_type": "stream",
     "text": [
      "0.005314099999999655\n",
      "0.004089999999997929 \n",
      "True\n"
     ]
    }
   ],
   "source": [
    "import timeit \n",
    "from timeit import default_timer as dt\n",
    "\n",
    "f1 = dt()\n",
    "for i in range(1000):\n",
    "    print('', end='')\n",
    "f2 = dt()-f1\n",
    "\n",
    "print(f\"{f2}\")\n",
    "\n",
    "w1=dt()\n",
    "i = 0 \n",
    "while i<1000:\n",
    "    print('', end='')\n",
    "    i+=1\n",
    "\n",
    "w2 = dt() -w1\n",
    "print(f\"{w2} \\n{f2>w2}\")\n",
    "\n"
   ]
  },
  {
   "cell_type": "markdown",
   "id": "b546973c",
   "metadata": {},
   "source": [
    "3. List Comprehensions \n",
    "\n",
    "Is a very nice way of creating lists that you know what the content is \n",
    "with append , the attribute append is called as a function in each interation \n",
    "\n",
    "Of course list comprehensions cna become a bit crowded and unreadable, so some commenting can go a long way .\n"
   ]
  },
  {
   "cell_type": "code",
   "execution_count": 5,
   "id": "23d1b540",
   "metadata": {},
   "outputs": [
    {
     "name": "stdout",
     "output_type": "stream",
     "text": [
      "0.0060594999995373655 \n",
      " 0.0035228000006100046 \n",
      " True\n"
     ]
    }
   ],
   "source": [
    "import timeit \n",
    "from timeit import default_timer as dt\n",
    "\n",
    "#instead of this \n",
    "l1=dt()\n",
    "L = []\n",
    "for i in range(10000):\n",
    "    if i%5==0:\n",
    "        L.append(i)\n",
    "l2 = dt()-l1\n",
    "c1 = dt()\n",
    "L = [i for i in range (10000) if i%5==0]\n",
    "c2 = dt()-c1\n",
    "print(f'{l2} \\n {c2} \\n {c2<l2}')"
   ]
  },
  {
   "cell_type": "markdown",
   "id": "6c09d191",
   "metadata": {},
   "source": [
    "4. Using Multiple Assignments\n",
    "\n"
   ]
  },
  {
   "cell_type": "code",
   "execution_count": 15,
   "id": "1527c1c9",
   "metadata": {},
   "outputs": [
    {
     "name": "stdout",
     "output_type": "stream",
     "text": [
      "0.0010719000001699897\n",
      "0.0004264999997758423\n",
      "True\n"
     ]
    }
   ],
   "source": [
    "import timeit \n",
    "from timeit import default_timer as dt\n",
    "\n",
    "s1 = dt()\n",
    "\n",
    "a=0\n",
    "b=1\n",
    "c=2\n",
    "d=3\n",
    "e=4\n",
    "f=5\n",
    "g=6\n",
    "\n",
    "s2 = dt()-s1\n",
    "m1=dt()\n",
    "\n",
    "a,b,c,d,e,f,g = 0,1,2,3,4,5,6\n",
    "\n",
    "m2=dt()-m1\n",
    "\n",
    "print(f'{s2}\\n{m2}\\n{m2<s2}')\n"
   ]
  },
  {
   "cell_type": "markdown",
   "id": "3ea825c8",
   "metadata": {},
   "source": [
    "\n",
    "5. Do not Use Global Variables \n"
   ]
  },
  {
   "cell_type": "markdown",
   "id": "44831bb9",
   "metadata": {},
   "source": [
    "\n",
    "6. use Library function \n",
    "\n",
    "If it's already there, why write it your self?\n",
    "build-in functions are highly efficient to use \n",
    "\n",
    "e.g. :sum and range \n"
   ]
  },
  {
   "cell_type": "code",
   "execution_count": 23,
   "id": "5936484a",
   "metadata": {},
   "outputs": [
    {
     "name": "stdout",
     "output_type": "stream",
     "text": [
      "0.86924689999978\n",
      "0.9682162999997672\n",
      "True\n"
     ]
    }
   ],
   "source": [
    "import timeit \n",
    "from timeit import default_timer as dt\n",
    "\n",
    "\n",
    "def builtin_sum():\n",
    "    return sum(range(10000000))\n",
    "\n",
    "def loop_sum():\n",
    "    s = 0\n",
    "    for i in range(10000000):\n",
    "        s += 1\n",
    "    return s\n",
    "    \n",
    "bs1 = dt()\n",
    "builtin_sum()\n",
    "bs2 = dt()-bs1\n",
    "\n",
    "ls1=dt()\n",
    "loop_sum()\n",
    "ls2=dt()-ls1\n",
    "\n",
    "print(f'{bs2}\\n{ls2}\\n{bs2<ls2}')\n"
   ]
  },
  {
   "cell_type": "markdown",
   "id": "7efec995",
   "metadata": {},
   "source": [
    "\n",
    "7. Be pythonic\n",
    "\n",
    "Use generators:\n",
    "Having a large amount of data in a list but using one data at a time and for once, it is better to use generators\n",
    "\n",
    "Instead of loops or arrays , we can use python features as map and generators\n"
   ]
  },
  {
   "cell_type": "code",
   "execution_count": 29,
   "id": "3eb9c617",
   "metadata": {},
   "outputs": [
    {
     "name": "stdout",
     "output_type": "stream",
     "text": [
      "601400\n",
      "280300\n",
      "True\n"
     ]
    }
   ],
   "source": [
    "from time import perf_counter_ns\n",
    "\n",
    "# non pythonic\n",
    "start=perf_counter_ns()\n",
    "total=0 \n",
    "for i in range(1,100):\n",
    "    if (i %3)== 0:\n",
    "        total += i\n",
    "end=perf_counter_ns()      \n",
    "nop = end-start\n",
    "\n",
    "\n",
    "# pythonic\n",
    "start=perf_counter_ns()\n",
    "total =sum(range(1, 100, 3))\n",
    "end=perf_counter_ns()  \n",
    "nop2 = end - start \n",
    "print(f\"{nop}\\n{nop2}\\n{nop2<nop}\")\n",
    "\n"
   ]
  },
  {
   "cell_type": "markdown",
   "id": "3af9fe06",
   "metadata": {},
   "source": [
    "8. Do not use dot operation \n",
    "\n"
   ]
  },
  {
   "cell_type": "code",
   "execution_count": 22,
   "id": "c72c5755",
   "metadata": {},
   "outputs": [
    {
     "name": "stdout",
     "output_type": "stream",
     "text": [
      "0.00021119999928487232\n",
      "0.00016069999946921598\n",
      "True\n"
     ]
    }
   ],
   "source": [
    "import timeit \n",
    "from timeit import default_timer as dt\n",
    "\n",
    "import math \n",
    "\n",
    "doted1 = dt()\n",
    "\n",
    "var = math.sqrt(60)\n",
    "\n",
    "doted2 = dt()-doted1\n",
    "\n",
    "from math import sqrt \n",
    "\n",
    "notdot1 = dt()\n",
    "\n",
    "var = sqrt(60)\n",
    "\n",
    "notdot2 = dt()-notdot1\n",
    "\n",
    "print(f'{doted2}\\n{notdot2}\\n{doted2>notdot2}')\n",
    "\n",
    "\n"
   ]
  },
  {
   "cell_type": "markdown",
   "id": "a72d8c3a",
   "metadata": {},
   "source": [
    "\n",
    "9. Use 1 for infinity loops \n",
    "\n",
    "Instead of while True, use while 1 \n",
    "\n",
    "It reduces some runtime"
   ]
  },
  {
   "cell_type": "markdown",
   "id": "afe61b9f",
   "metadata": {},
   "source": [
    "\n",
    "10. Try a different approach \n",
    "\n",
    "More efficient ways to write your code, require less runtime \n"
   ]
  },
  {
   "cell_type": "markdown",
   "id": "7e4ecd04",
   "metadata": {},
   "source": [
    "``` Python\n",
    "if a_condtion:\n",
    "    if another_condition:\n",
    "        do_something\n",
    "else:\n",
    "    do_sth_else\n",
    "\n",
    "```\n",
    "vs \n",
    "\n",
    "```Python\n",
    "if (not a_condition) or (not another_condition):\n",
    "    do_sth_else\n",
    "do_something\n",
    "```"
   ]
  },
  {
   "cell_type": "markdown",
   "id": "4fee0c2a",
   "metadata": {},
   "source": [
    "\n",
    "11. Use speed up applications\n",
    "\n",
    "Projects like pypy and numba can be used in contests, if pypy allows python runtime will be reduced\n"
   ]
  },
  {
   "cell_type": "markdown",
   "id": "6e1966a7",
   "metadata": {},
   "source": [
    "\n",
    "12. Special libraries\n",
    "\n",
    "Yes, obviously C/C++ is faster than python, so packages like numpy,\n",
    "scipy and pandas are used for processing large datasets.\n",
    "\n",
    "Numpy is build with C. it's always faster to offload math to numpy instead of on the Python Interpreter. \n",
    "Numpy is also more efficient at handling matrix data.\n"
   ]
  },
  {
   "cell_type": "markdown",
   "id": "f08061fa",
   "metadata": {},
   "source": [
    "\n",
    "13. Using The latest release of python\n",
    "\n",
    "Every release is faster and more optimized \n"
   ]
  },
  {
   "cell_type": "code",
   "execution_count": 28,
   "id": "d8466a25",
   "metadata": {},
   "outputs": [
    {
     "name": "stdout",
     "output_type": "stream",
     "text": [
      "6.6464203999994425\n",
      "2.932698600000549\n",
      "True\n"
     ]
    }
   ],
   "source": [
    "import timeit \n",
    "from timeit import default_timer as dt\n",
    "\n",
    "pl1=dt()\n",
    "python_list = [i for i in range(10000000)]\n",
    "[i**2 for i in python_list]\n",
    "pl2=dt() - pl1 \n",
    "\n",
    "import numpy as np\n",
    "nl1 = dt()\n",
    "numpy_array = np.array([i for i in range(10000000)])\n",
    "np.square(numpy_array)\n",
    "nl2 = dt() - nl1 \n",
    "\n",
    "print(f'{pl2}\\n{nl2}\\n{pl2>nl2}')\n"
   ]
  },
  {
   "cell_type": "markdown",
   "id": "376a53de",
   "metadata": {},
   "source": [
    "\n",
    "14. Function Calls are Expensive \n",
    "\n",
    "Some times you need to be cautious about calling functions from inside of a loop. \n",
    "Better to iterate inside a function than iterate and call a function each iteration. "
   ]
  },
  {
   "cell_type": "code",
   "execution_count": 25,
   "id": "50cd1d95",
   "metadata": {
    "scrolled": true
   },
   "outputs": [
    {
     "name": "stdout",
     "output_type": "stream",
     "text": [
      "1.255079200000182\n",
      "0.8478624999997919\n",
      "True\n"
     ]
    }
   ],
   "source": [
    "import timeit \n",
    "from timeit import default_timer as dt\n",
    "\n",
    "\n",
    "def square(num):\n",
    "    return num**2\n",
    "\n",
    "fs1 = dt()\n",
    "squares = []\n",
    "for i in range(1000000):\n",
    "    squares.append(square(i))\n",
    "\n",
    "fs2 = dt() - fs1\n",
    "\n",
    "def squares():\n",
    "    sqrs = []\n",
    "    for i in range(1000000):\n",
    "        sqrs.append(i**2)\n",
    "    return sqrs\n",
    "\n",
    "si1 = dt()\n",
    "\n",
    "sq = squares()\n",
    "\n",
    "si2 = dt()-si1\n",
    "    \n",
    "print(f'{fs2}\\n{si2}\\n{si2<fs2}')\n",
    "    \n",
    "    \n",
    "    "
   ]
  },
  {
   "cell_type": "markdown",
   "id": "ca69338f",
   "metadata": {},
   "source": [
    "\n",
    "15. Lazy Module Importing \n",
    "\n",
    "Importing all the libraries at the top is slower than importing them whehn needed , in the cases that not all of them are necessary. \n"
   ]
  },
  {
   "cell_type": "markdown",
   "id": "8e00b15a",
   "metadata": {},
   "source": [
    "\n",
    "16. Multiprocessing \n",
    "\n",
    "Python is usually limited to a single core when processing code, but with the multiprocessing library , we can use more. \n"
   ]
  },
  {
   "cell_type": "markdown",
   "id": "8fb4d411",
   "metadata": {},
   "source": [
    "\n",
    "17. Collections \n",
    "\n",
    "A uselful library that has fast functions for strings\n"
   ]
  },
  {
   "cell_type": "markdown",
   "id": "7c1c5081",
   "metadata": {},
   "source": [
    "18. Memoization\n",
    "\n",
    "Caching the results, you can use the same parameter values from the cache instead of recomputing them. \n"
   ]
  },
  {
   "cell_type": "code",
   "execution_count": 31,
   "id": "73c2b0d0",
   "metadata": {},
   "outputs": [
    {
     "name": "stdout",
     "output_type": "stream",
     "text": [
      "Non-memoized fib()=9227465\n",
      "Memoized fib()=9227465\n",
      "6371406600\n",
      "188900\n",
      "True\n"
     ]
    }
   ],
   "source": [
    "from time import perf_counter_ns\n",
    "from functools import lru_cache\n",
    "\n",
    "def fib(n):\n",
    "    return n if n < 2 else fib(n-1) + fib(n-2)\n",
    "\n",
    "@lru_cache(maxsize=None)\n",
    "def mfib(n):\n",
    "    return n if n < 2 else mfib(n-1) + mfib(n-2)\n",
    "start=perf_counter_ns()\n",
    "print(f\"Non-memoized fib()={fib(35)}\")\n",
    "end=perf_counter_ns()      \n",
    "noc1 = end - start\n",
    "\n",
    "start=perf_counter_ns()  \n",
    "print(f\"Memoized fib()={mfib(35)}\")\n",
    "end=perf_counter_ns()   \n",
    "noc2 = end - start \n",
    "\n",
    "print(f'{noc1}\\n{noc2}\\n{noc2<noc1}')"
   ]
  },
  {
   "cell_type": "markdown",
   "id": "83fc9841",
   "metadata": {},
   "source": [
    "\n",
    "19. Compile Python\n",
    "\n",
    "Python compilers such as numpa, nuitka, pypi and cython.\n",
    "Numpa's compiler is JIT (just in time ) provides also GPU powered acceleration\n"
   ]
  },
  {
   "cell_type": "code",
   "execution_count": null,
   "id": "67566518",
   "metadata": {},
   "outputs": [],
   "source": []
  },
  {
   "cell_type": "code",
   "execution_count": null,
   "id": "80c0cc84",
   "metadata": {},
   "outputs": [],
   "source": []
  },
  {
   "cell_type": "code",
   "execution_count": null,
   "id": "2ed3f558",
   "metadata": {},
   "outputs": [],
   "source": []
  },
  {
   "cell_type": "code",
   "execution_count": null,
   "id": "d7597ade",
   "metadata": {},
   "outputs": [],
   "source": []
  },
  {
   "cell_type": "code",
   "execution_count": null,
   "id": "b13fe42a",
   "metadata": {},
   "outputs": [],
   "source": []
  },
  {
   "cell_type": "code",
   "execution_count": null,
   "id": "f925badd",
   "metadata": {},
   "outputs": [],
   "source": []
  },
  {
   "cell_type": "code",
   "execution_count": null,
   "id": "dd4236e9",
   "metadata": {},
   "outputs": [],
   "source": []
  }
 ],
 "metadata": {
  "kernelspec": {
   "display_name": "Python 3 (ipykernel)",
   "language": "python",
   "name": "python3"
  },
  "language_info": {
   "codemirror_mode": {
    "name": "ipython",
    "version": 3
   },
   "file_extension": ".py",
   "mimetype": "text/x-python",
   "name": "python",
   "nbconvert_exporter": "python",
   "pygments_lexer": "ipython3",
   "version": "3.9.10"
  }
 },
 "nbformat": 4,
 "nbformat_minor": 5
}
